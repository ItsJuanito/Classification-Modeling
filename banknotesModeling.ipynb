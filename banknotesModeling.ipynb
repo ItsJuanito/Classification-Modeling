{
 "cells": [
  {
   "attachments": {},
   "cell_type": "markdown",
   "metadata": {},
   "source": [
    "# Classification Modeling\n"
   ]
  },
  {
   "cell_type": "code",
   "execution_count": 51,
   "metadata": {},
   "outputs": [],
   "source": [
    "# imoprt csv to read dataset\n",
    "import csv\n",
    "# import perceptron\n",
    "from sklearn.linear_model import Perceptron\n",
    "# import train_test_split and kFold \n",
    "from sklearn.model_selection import train_test_split, KFold\n",
    "\n",
    "# open csv file\n",
    "with open('banknotes.csv') as f:\n",
    "    # store/open csv file\n",
    "    reader = csv.reader(f)\n",
    "    # use next() to iterate through contents of csv file\n",
    "    next(reader)\n",
    "    # create empty list\n",
    "    data = []\n",
    "    for row in reader:\n",
    "        # store dataset by features and labels\n",
    "        # labels are \"class\" column\n",
    "        data.append([float(cell) for cell in row[:4]])\n",
    "        data.append(int(row[4]))\n",
    "    #{'features' : [float(cell) for cell in row[:4]],\n",
    "    #'labels': int(row[4])}"
   ]
  },
  {
   "cell_type": "markdown",
   "metadata": {},
   "source": [
    "# Steps for model fitting\n",
    "1. Split the dataset\n",
    "2. Fit the model\n",
    "3. Predict the model\n",
    "4. Evaluate the model"
   ]
  },
  {
   "cell_type": "code",
   "execution_count": null,
   "metadata": {},
   "outputs": [],
   "source": [
    "# print the dataset if needed\n",
    "print(data)\n",
    "'''\n",
    "for d in data:\n",
    "    for key in d:\n",
    "        if key =='features':\n",
    "            print(d[key], end=' ')\n",
    "        else:\n",
    "            print(d[key])\n",
    "'''"
   ]
  },
  {
   "attachments": {},
   "cell_type": "markdown",
   "metadata": {},
   "source": [
    "# Perceptron"
   ]
  },
  {
   "cell_type": "code",
   "execution_count": 53,
   "metadata": {},
   "outputs": [
    {
     "name": "stdout",
     "output_type": "stream",
     "text": [
      "Correct: 543\n",
      "Incorrect: 6\n",
      "Accuracy: 98.91%\n"
     ]
    }
   ],
   "source": [
    "# create perceptron model\n",
    "model = Perceptron()\n",
    "\n",
    "# split the dataset if it was made a dictionary\n",
    "#features = [row['features'] for row in data]\n",
    "#labels = [row['labels'] for row in data]\n",
    "\n",
    "# split dataset into two seperate lists\n",
    "features = []\n",
    "labels = []\n",
    "for index, d in enumerate(data):\n",
    "    if index % 2 == 0:\n",
    "        features.append(d)\n",
    "    else:\n",
    "        labels.append(d)\n",
    "\n",
    "# use train test split function\n",
    "X_train, X_test, y_train, y_test = train_test_split(features, labels, test_size=0.4)\n",
    "\n",
    "# train model using train data\n",
    "model.fit(X_train, y_train)\n",
    "\n",
    "# make predictions using test data\n",
    "predictions = model.predict(X_test)\n",
    "\n",
    "# store sums of predicted data\n",
    "correct = (y_test == predictions).sum()\n",
    "incorrect = (y_test != predictions).sum()\n",
    "total = len(predictions)\n",
    "\n",
    "\n",
    "print(f'Correct: {correct}')\n",
    "print(f'Incorrect: {incorrect}')\n",
    "print(f'Accuracy: {100 * correct / total:.2f}%')"
   ]
  },
  {
   "attachments": {},
   "cell_type": "markdown",
   "metadata": {},
   "source": [
    "# KNN + KFold"
   ]
  },
  {
   "cell_type": "code",
   "execution_count": 54,
   "metadata": {},
   "outputs": [
    {
     "name": "stdout",
     "output_type": "stream",
     "text": [
      "Correct: 274\n",
      "Incorrect: 0\n",
      "Accuracy: 100.00%\n"
     ]
    }
   ],
   "source": [
    "# import knn classifier because we are dealing with classification\n",
    "from sklearn.neighbors import KNeighborsClassifier\n",
    "import numpy as np\n",
    "\n",
    "# use numpy to make features and lables scalar\n",
    "X = np.array(features)\n",
    "y = np.array(labels)\n",
    "\n",
    "# use kfold cross-validation\n",
    "kf = KFold(n_splits=5) \n",
    "kf.get_n_splits(X)\n",
    "\n",
    "# perform cross validation\n",
    "for train, test in kf.split(X):\n",
    "    X_train, X_test = X[train], X[test]\n",
    "    y_train, y_test = y[train], y[test]\n",
    "\n",
    "# knnclassifier\n",
    "modelknn = KNeighborsClassifier(n_neighbors=3)\n",
    "# use knn model to fit x and y train data\n",
    "modelknn.fit(X_train, y_train)\n",
    "# predict the knn model with x_test data\n",
    "pred_values = modelknn.predict(X_test)\n",
    "# get correct and incorrect sums\n",
    "correct = (y_test == pred_values).sum()\n",
    "incorrect = (y_test != pred_values).sum()\n",
    "total = len(pred_values)\n",
    "\n",
    "# print output and accuracies of predicted test-data\n",
    "print(f'Correct: {correct}')\n",
    "print(f'Incorrect: {incorrect}')\n",
    "print(f'Accuracy: {100 * correct / total:.2f}%')"
   ]
  },
  {
   "attachments": {},
   "cell_type": "markdown",
   "metadata": {},
   "source": [
    "# Linear Kernel SVM"
   ]
  },
  {
   "cell_type": "code",
   "execution_count": 50,
   "metadata": {},
   "outputs": [
    {
     "name": "stdout",
     "output_type": "stream",
     "text": [
      "Correct: 270\n",
      "Incorrect: 4\n",
      "Accuracy: 98.54%\n"
     ]
    }
   ],
   "source": [
    "# import SVM\n",
    "from sklearn import svm\n",
    "\n",
    "# create model for SVM\n",
    "modelsvc = svm.SVC(kernel='linear')\n",
    "\n",
    "# use kfold cross-validation\n",
    "kf = KFold(n_splits=5) \n",
    "kf.get_n_splits(X)\n",
    "# initiate splits\n",
    "for train, test in kf.split(X):\n",
    "    X_train, X_test = X[train], X[test]\n",
    "    y_train, y_test = y[train], y[test]\n",
    "# x and y train data\n",
    "modelsvc.fit(X_train, y_train)\n",
    "# make predictions\n",
    "pred_values = modelsvc.predict(X_test)\n",
    "# get correct and incorrect sums\n",
    "correct = (y_test == pred_values).sum()\n",
    "incorrect = (y_test != pred_values).sum()\n",
    "total = len(pred_values)\n",
    "\n",
    "# print output and accuracies of predicted test-data\n",
    "print(f'Correct: {correct}')\n",
    "print(f'Incorrect: {incorrect}')\n",
    "print(f'Accuracy: {100 * correct / total:.2f}%')"
   ]
  }
 ],
 "metadata": {
  "kernelspec": {
   "display_name": "Python 3.10.8 64-bit",
   "language": "python",
   "name": "python3"
  },
  "language_info": {
   "codemirror_mode": {
    "name": "ipython",
    "version": 3
   },
   "file_extension": ".py",
   "mimetype": "text/x-python",
   "name": "python",
   "nbconvert_exporter": "python",
   "pygments_lexer": "ipython3",
   "version": "3.10.8"
  },
  "orig_nbformat": 4,
  "vscode": {
   "interpreter": {
    "hash": "369f2c481f4da34e4445cda3fffd2e751bd1c4d706f27375911949ba6bb62e1c"
   }
  }
 },
 "nbformat": 4,
 "nbformat_minor": 2
}
